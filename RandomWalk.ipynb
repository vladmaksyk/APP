{
 "cells": [
  {
   "cell_type": "code",
   "execution_count": 1,
   "metadata": {},
   "outputs": [],
   "source": [
    "import networkx as nx\n",
    "import numpy as np\n",
    "import matplotlib.pyplot as plt\n",
    "import random\n",
    "import pandas as pd\n"
   ]
  },
  {
   "cell_type": "code",
   "execution_count": null,
   "metadata": {},
   "outputs": [],
   "source": [
    "# #Small example\n",
    "# G.add_nodes_from([1,2,3,4,5])\n",
    "# G.add_edge(1, 3)\n",
    "# G.add_edge(1, 4)\n",
    "# G.add_edge(2, 5)\n",
    "# G.add_edge(3, 2)\n",
    "# G.add_edge(3, 5)\n",
    "# G.add_edge(4, 3)\n",
    "\n",
    "# # Draw graph\n",
    "# nx.draw(G, with_labels = True)\n",
    "# plt.show()"
   ]
  },
  {
   "cell_type": "code",
   "execution_count": 2,
   "metadata": {},
   "outputs": [],
   "source": [
    "# Create Graph\n",
    "G = nx.Graph()"
   ]
  },
  {
   "cell_type": "code",
   "execution_count": 6,
   "metadata": {},
   "outputs": [],
   "source": [
    "filepath = \"edgelist/BlogCatalog-edgelists.csv\""
   ]
  },
  {
   "cell_type": "code",
   "execution_count": 11,
   "metadata": {},
   "outputs": [],
   "source": [
    "colNames=[\"Start\", \"End\"]\n",
    "edgeData = pd.read_csv(filepath, names=colNames)"
   ]
  },
  {
   "cell_type": "code",
   "execution_count": 13,
   "metadata": {},
   "outputs": [
    {
     "data": {
      "text/html": [
       "<div>\n",
       "<style scoped>\n",
       "    .dataframe tbody tr th:only-of-type {\n",
       "        vertical-align: middle;\n",
       "    }\n",
       "\n",
       "    .dataframe tbody tr th {\n",
       "        vertical-align: top;\n",
       "    }\n",
       "\n",
       "    .dataframe thead th {\n",
       "        text-align: right;\n",
       "    }\n",
       "</style>\n",
       "<table border=\"1\" class=\"dataframe\">\n",
       "  <thead>\n",
       "    <tr style=\"text-align: right;\">\n",
       "      <th></th>\n",
       "      <th>Start</th>\n",
       "      <th>End</th>\n",
       "    </tr>\n",
       "  </thead>\n",
       "  <tbody>\n",
       "    <tr>\n",
       "      <th>0</th>\n",
       "      <td>1</td>\n",
       "      <td>176</td>\n",
       "    </tr>\n",
       "    <tr>\n",
       "      <th>1</th>\n",
       "      <td>1</td>\n",
       "      <td>233</td>\n",
       "    </tr>\n",
       "    <tr>\n",
       "      <th>2</th>\n",
       "      <td>1</td>\n",
       "      <td>283</td>\n",
       "    </tr>\n",
       "    <tr>\n",
       "      <th>3</th>\n",
       "      <td>1</td>\n",
       "      <td>371</td>\n",
       "    </tr>\n",
       "    <tr>\n",
       "      <th>4</th>\n",
       "      <td>1</td>\n",
       "      <td>394</td>\n",
       "    </tr>\n",
       "  </tbody>\n",
       "</table>\n",
       "</div>"
      ],
      "text/plain": [
       "   Start  End\n",
       "0      1  176\n",
       "1      1  233\n",
       "2      1  283\n",
       "3      1  371\n",
       "4      1  394"
      ]
     },
     "execution_count": 13,
     "metadata": {},
     "output_type": "execute_result"
    }
   ],
   "source": [
    "edgeData.head()\n",
    "# edgeData.size\n",
    "# edgeData.shape\n",
    "# edgeData[edgeData.isnull().any(axis=1)]\n"
   ]
  },
  {
   "cell_type": "code",
   "execution_count": 14,
   "metadata": {},
   "outputs": [],
   "source": [
    "#Add nodes\n",
    "nodes = []\n",
    "#loop throug data records\n",
    "for i in range (0, edgeData.shape[0]):\n",
    "    #append every node\n",
    "    nodes.append(edgeData.iloc[i,0])\n",
    "    nodes.append(edgeData.iloc[i,1])\n",
    "#creating a set of nodes    \n",
    "nodes = set(nodes)\n",
    "#sorting the nodes in increasing order\n",
    "uniqueNodes = (list(nodes))\n",
    "uniqueNodes.sort()\n",
    "#adding the nodes to the graph\n",
    "G.add_nodes_from(uniqueNodes)\n",
    "\n"
   ]
  },
  {
   "cell_type": "code",
   "execution_count": 15,
   "metadata": {},
   "outputs": [],
   "source": [
    "# Add edges\n",
    "#loop from 0 to amount of records\n",
    "for i in range (0, edgeData.shape[0]):\n",
    "    #add the edge to the graph\n",
    "    G.add_edge(edgeData.iloc[i,0], edgeData.iloc[i,1])"
   ]
  },
  {
   "cell_type": "code",
   "execution_count": 16,
   "metadata": {},
   "outputs": [],
   "source": [
    "# Draw graph\n",
    "# nx.draw(G)\n",
    "# plt.show()"
   ]
  },
  {
   "cell_type": "code",
   "execution_count": 17,
   "metadata": {},
   "outputs": [
    {
     "name": "stdout",
     "output_type": "stream",
     "text": [
      "Step: 1\n",
      "Path:  [1, 4652, 6628, 4652, 3538, 800, 7196, 2666, 8270, 9824, 9319, 9824, 4568, 6373, 5409, 4374, 1452, 9079, 9431, 9871, 6832, 8754, 9997, 1822, 4256, 4876, 219, 7992, 4374, 9549, 9460, 7515, 2336, 2536, 2338, 2395, 3480, 176, 6624, 8810, 9794, 6020, 9517, 1290, 4317, 3509, 2452, 4843, 395, 3198, 2485, 4652, 7402, 5886, 165, 7644, 7205, 8969, 128, 482, 2049, 4613, 662, 4613, 136, 6277, 6135, 6886, 6141, 5951, 667, 8949, 3671, 3785, 1295, 3945, 3608, 3658, 5398, 8241, 551, 6873, 1556, 2075, 2340, 1644, 1340, 1227, 1226, 2930, 3940, 6016, 6317, 5393, 4677, 8296, 3936, 7373, 8868, 1047]\n",
      "Most visited nodes:  [4652, 9824, 4374, 4613, 6628, 3538, 800, 7196, 2666, 8270]\n",
      "Step: 2\n",
      "Path:  [1, 696, 3908, 2734, 3391, 2763, 9526, 257, 4623, 5152, 4904, 2050, 3258, 232, 5068, 4839, 9121, 9105, 8827, 1297, 4984, 7113, 6959, 5816, 3526, 1492, 2546, 459, 2638, 291, 2529, 5546, 3122, 2996, 645, 8056, 1, 8524, 8441, 4109, 9105, 8758, 8084, 943, 2651, 233, 3531, 3702, 1984, 3702, 3873, 3650, 3205, 4802, 3334, 550, 195, 4407, 1290, 3562, 3386, 5576, 3339, 4300, 4187, 3697, 3632, 2057, 998, 4984, 9499, 2953, 2364, 3453, 4451, 5646, 4374, 9628, 5702, 9188, 9876, 6886, 8721, 3407, 447, 917, 4997, 347, 3751, 3726, 1456, 449, 5435, 2967, 4805, 5272, 998, 4298, 9504, 4805]\n",
      "Most visited nodes:  [9105, 4984, 3702, 998, 4805, 696, 3908, 2734, 3391, 2763]\n",
      "Step: 3\n",
      "Path:  [1, 8969, 8924, 4504, 6035, 1047, 449, 2421, 283, 5443, 1056, 5443, 2773, 999, 9936, 9997, 7533, 9579, 9188, 8796, 129, 5325, 7616, 2015, 7616, 7373, 7709, 8441, 598, 2622, 2695, 2999, 2734, 2118, 7805, 6886, 6794, 4892, 3561, 1610, 1407, 2715, 1407, 9284, 7579, 7149, 7661, 2099, 3339, 5686, 4820, 2228, 2636, 4004, 1106, 7806, 9641, 176, 3460, 3561, 2187, 4997, 1455, 8859, 773, 1534, 7098, 7084, 667, 7624, 4733, 7476, 4836, 6254, 5469, 6239, 5984, 6696, 9844, 2760, 3561, 971, 2241, 1887, 996, 1273, 667, 1771, 1725, 2049, 8302, 301, 2651, 3908, 2786, 295, 4945, 5030, 4360, 6030]\n",
      "Most visited nodes:  [3561, 5443, 7616, 1407, 667, 8969, 8924, 4504, 6035, 1047]\n",
      "Step: 4\n",
      "Path:  [1, 4928, 3026, 6468, 438, 551, 8888, 8154, 7720, 6395, 3650, 3608, 4584, 2085, 4189, 598, 3407, 8752, 8439, 8859, 8262, 4652, 9889, 4472, 1398, 865, 1206, 3827, 2085, 2625, 3147, 4851, 5009, 4984, 6129, 254, 6141, 593, 3026, 1232, 2928, 2953, 4472, 8498, 2085, 4505, 9905, 2175, 2718, 746, 6108, 750, 8029, 6129, 5472, 2638, 9576, 5544, 5152, 5423, 3526, 9803, 8661, 7234, 884, 3785, 907, 2861, 459, 2651, 1177, 1681, 906, 4984, 6687, 6175, 5744, 9520, 5101, 9610, 5101, 1459, 449, 8175, 7660, 10047, 10297, 3296, 2999, 6909, 6073, 4189, 2327, 4394, 8191, 9872, 8859, 6122, 6014, 7945]\n",
      "Most visited nodes:  [2085, 3026, 4189, 8859, 4472, 4984, 6129, 5101, 4928, 6468]\n",
      "Step: 5\n",
      "Path:  [1, 1876, 1292, 1273, 1271, 2861, 1747, 5784, 192, 2786, 4708, 3690, 7625, 589, 7806, 885, 8810, 885, 7806, 9667, 9517, 4870, 1893, 1705, 542, 825, 5951, 3526, 4335, 2146, 2959, 2146, 4997, 5560, 4200, 4997, 774, 3262, 863, 4789, 4497, 500, 7373, 3671, 8302, 3140, 2665, 3179, 5110, 9285, 7076, 6468, 9172, 6301, 6141, 810, 4469, 810, 3733, 4672, 6260, 3323, 4646, 6135, 3323, 7039, 8234, 7700, 858, 7806, 4095, 1226, 1325, 1357, 5152, 7561, 7714, 9997, 9479, 5722, 6907, 5603, 6243, 5452, 3785, 72, 4265, 34, 3526, 4745, 3526, 1460, 1136, 1364, 1566, 4820, 8703, 8642, 8157, 7894]\n",
      "Most visited nodes:  [7806, 3526, 885, 2146, 4997, 810, 3323, 1876, 1292, 1273]\n",
      "Step: 6\n",
      "Path:  [1, 4843, 295, 4945, 7373, 6219, 8868, 8775, 4919, 1455, 4404, 4523, 6332, 5553, 2638, 6643, 6813, 6769, 6894, 6035, 7737, 9127, 5426, 7112, 7280, 4496, 7922, 588, 9802, 7749, 8395, 6649, 10271, 7633, 5235, 7526, 4708, 8293, 3198, 906, 1274, 3023, 3827, 4997, 348, 9526, 6282, 6243, 5472, 7234, 2084, 1705, 1893, 4669, 4437, 5978, 6801, 6317, 9185, 5915, 8060, 6146, 5259, 5164, 7701, 7299, 176, 725, 3704, 7989, 8235, 8433, 8248, 1645, 5215, 4390, 4820, 858, 2190, 2235, 2999, 4542, 6038, 902, 4593, 6917, 6451, 7989, 7909, 8859, 8913, 8859, 1330, 3339, 761, 3808, 4374, 8003, 4573, 3582]\n",
      "Most visited nodes:  [7989, 8859, 4843, 295, 4945, 7373, 6219, 8868, 8775, 4919]\n",
      "Step: 7\n",
      "Path:  [1, 8525, 9890, 124, 2625, 2942, 8911, 1164, 5334, 6928, 858, 8155, 7806, 5812, 5886, 37, 10225, 7655, 7500, 7172, 4698, 3366, 263, 5163, 1573, 713, 667, 1170, 1136, 1080, 867, 1284, 1376, 2796, 6689, 1665, 4839, 7159, 4652, 3739, 4997, 4358, 1327, 1208, 1824, 2611, 2457, 229, 8234, 2033, 2035, 1723, 4079, 3806, 5334, 2633, 1327, 1376, 2010, 3526, 1415, 6141, 6513, 1775, 6067, 9919, 1684, 1420, 1168, 4839, 4151, 4652, 1907, 3489, 2443, 3650, 4020, 4955, 4256, 2327, 477, 5784, 7488, 5976, 8441, 7535, 8775, 301, 1543, 6435, 7375, 9215, 8561, 9105, 7272, 5723, 7272, 4288, 6373, 6052]\n",
      "Most visited nodes:  [5334, 1376, 4839, 4652, 1327, 7272, 8525, 9890, 124, 2625]\n",
      "Step: 8\n",
      "Path:  [1, 4723, 6431, 7806, 6157, 2622, 5035, 3122, 3223, 8248, 8486, 8908, 7515, 9101, 8939, 6435, 4524, 233, 4471, 6816, 2584, 3858, 1007, 5152, 3222, 393, 501, 960, 1226, 9600, 5241, 3078, 7451, 7332, 5927, 5275, 2660, 6802, 2112, 2834, 3857, 5937, 5607, 6873, 4665, 136, 6073, 4984, 6900, 6360, 7983, 5003, 544, 9890, 124, 5377, 6058, 1938, 6058, 1543, 1136, 1742, 9997, 409, 1932, 3222, 1932, 7842, 6073, 5164, 667, 7034, 1936, 7034, 7989, 9228, 7373, 9676, 9893, 4374, 9646, 6030, 6615, 4931, 6488, 8859, 7067, 4652, 1150, 7593, 10259, 9927, 8302, 108, 4471, 8157, 7920, 176, 10045, 8814]\n",
      "Most visited nodes:  [4471, 3222, 6073, 6058, 1932, 7034, 4723, 6431, 7806, 6157]\n",
      "Step: 9\n",
      "Path:  [1, 4652, 4739, 8868, 17, 7608, 9674, 1599, 4805, 1051, 3268, 3198, 3140, 2761, 2346, 6917, 2730, 2954, 3407, 6508, 7633, 6907, 5974, 1105, 4065, 56, 4065, 4984, 3397, 2763, 6917, 5587, 4931, 5901, 5259, 1, 4839, 4325, 560, 8157, 7991, 8157, 2695, 996, 8270, 9216, 7687, 7417, 7648, 3510, 6986, 7437, 3797, 3704, 167, 5853, 7131, 6792, 8525, 9424, 8758, 5256, 7129, 8150, 9479, 9162, 10271, 7989, 6526, 3246, 739, 9919, 247, 4329, 2832, 4404, 95, 867, 1199, 2092, 3103, 3699, 1517, 3348, 1517, 3258, 1669, 1978, 2606, 5272, 7010, 3142, 8197, 4831, 5296, 4995, 3339, 4933, 449, 2383]\n",
      "Most visited nodes:  [6917, 4065, 8157, 1517, 4652, 4739, 8868, 17, 7608, 9674]\n"
     ]
    }
   ],
   "source": [
    "# Execute 10 times this command sequence\n",
    "numOperations = 10\n",
    "for step in range(1, numOperations):\n",
    "    # Choose a random start node\n",
    "    vertexid = 1\n",
    "    # Dictionary that associate nodes with the amount of times it was visited\n",
    "    visited_vertices = {}\n",
    "    # Store and print path\n",
    "    path = [vertexid]\n",
    "    \n",
    "    print(\"Step: %d\" % (step))\n",
    "    # Restart the cycle\n",
    "    counter = 0\n",
    "    # Execute the random walk with size 100 (100 steps)\n",
    "    randomWalkSize = 100\n",
    "    for counter in range(1, randomWalkSize): \n",
    "        # Extract vertex neighbours vertex neighborhood\n",
    "        vertex_neighbors = [n for n in G.neighbors(vertexid)]\n",
    "        # Set probability of going to a neighbour is uniform\n",
    "        probability = []\n",
    "        probability = probability + [1./len(vertex_neighbors)] * len(vertex_neighbors)\n",
    "        # Choose a vertex from the vertex neighborhood to start the next random walk\n",
    "        vertexid = np.random.choice(vertex_neighbors, p=probability)\n",
    "        # Accumulate the amount of times each vertex is visited\n",
    "        if vertexid in visited_vertices:\n",
    "            visited_vertices[vertexid] += 1\n",
    "        else:\n",
    "            visited_vertices[vertexid] = 1\n",
    "\n",
    "        # Append to path\n",
    "        path.append(vertexid)\n",
    "\n",
    "    # Organize the vertex list in most visited decrescent order\n",
    "    mostvisited = sorted(visited_vertices, key = visited_vertices.get,reverse = True)\n",
    "    print(\"Path: \", path)\n",
    "    \n",
    "    # Separate the top 10 most visited vertex\n",
    "    print(\"Most visited nodes: \", mostvisited[:10])"
   ]
  },
  {
   "cell_type": "code",
   "execution_count": null,
   "metadata": {},
   "outputs": [],
   "source": []
  }
 ],
 "metadata": {
  "kernelspec": {
   "display_name": "Python 3",
   "language": "python",
   "name": "python3"
  },
  "language_info": {
   "codemirror_mode": {
    "name": "ipython",
    "version": 3
   },
   "file_extension": ".py",
   "mimetype": "text/x-python",
   "name": "python",
   "nbconvert_exporter": "python",
   "pygments_lexer": "ipython3",
   "version": "3.7.3"
  }
 },
 "nbformat": 4,
 "nbformat_minor": 1
}
