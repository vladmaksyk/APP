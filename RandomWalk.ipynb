{
 "cells": [
  {
   "cell_type": "code",
   "execution_count": 1,
   "metadata": {},
   "outputs": [],
   "source": [
    "import networkx as nx\n",
    "import numpy as np\n",
    "import matplotlib.pyplot as plt\n",
    "import random\n",
    "import pandas as pd\n",
    "import math \n"
   ]
  },
  {
   "cell_type": "code",
   "execution_count": null,
   "metadata": {},
   "outputs": [],
   "source": []
  },
  {
   "cell_type": "code",
   "execution_count": 5,
   "metadata": {},
   "outputs": [],
   "source": []
  },
  {
   "cell_type": "code",
   "execution_count": 4,
   "metadata": {},
   "outputs": [],
   "source": [
    "# filepath = \"edgelist/BlogCatalog-edgelists.csv\""
   ]
  },
  {
   "cell_type": "code",
   "execution_count": 5,
   "metadata": {},
   "outputs": [],
   "source": [
    "# colNames=[\"Start\", \"End\"]\n",
    "# edgeData = pd.read_csv(filepath, names=colNames)"
   ]
  },
  {
   "cell_type": "code",
   "execution_count": 6,
   "metadata": {},
   "outputs": [
    {
     "data": {
      "text/html": [
       "<div>\n",
       "<style scoped>\n",
       "    .dataframe tbody tr th:only-of-type {\n",
       "        vertical-align: middle;\n",
       "    }\n",
       "\n",
       "    .dataframe tbody tr th {\n",
       "        vertical-align: top;\n",
       "    }\n",
       "\n",
       "    .dataframe thead th {\n",
       "        text-align: right;\n",
       "    }\n",
       "</style>\n",
       "<table border=\"1\" class=\"dataframe\">\n",
       "  <thead>\n",
       "    <tr style=\"text-align: right;\">\n",
       "      <th></th>\n",
       "      <th>Start</th>\n",
       "      <th>End</th>\n",
       "    </tr>\n",
       "  </thead>\n",
       "  <tbody>\n",
       "    <tr>\n",
       "      <th>0</th>\n",
       "      <td>1</td>\n",
       "      <td>176</td>\n",
       "    </tr>\n",
       "    <tr>\n",
       "      <th>1</th>\n",
       "      <td>1</td>\n",
       "      <td>233</td>\n",
       "    </tr>\n",
       "    <tr>\n",
       "      <th>2</th>\n",
       "      <td>1</td>\n",
       "      <td>283</td>\n",
       "    </tr>\n",
       "    <tr>\n",
       "      <th>3</th>\n",
       "      <td>1</td>\n",
       "      <td>371</td>\n",
       "    </tr>\n",
       "    <tr>\n",
       "      <th>4</th>\n",
       "      <td>1</td>\n",
       "      <td>394</td>\n",
       "    </tr>\n",
       "  </tbody>\n",
       "</table>\n",
       "</div>"
      ],
      "text/plain": [
       "   Start  End\n",
       "0      1  176\n",
       "1      1  233\n",
       "2      1  283\n",
       "3      1  371\n",
       "4      1  394"
      ]
     },
     "execution_count": 6,
     "metadata": {},
     "output_type": "execute_result"
    }
   ],
   "source": [
    "# edgeData.head()\n",
    "# # edgeData.size\n",
    "# # edgeData.shape\n",
    "# # edgeData[edgeData.isnull().any(axis=1)]\n"
   ]
  },
  {
   "cell_type": "code",
   "execution_count": 7,
   "metadata": {},
   "outputs": [],
   "source": [
    "# #Add nodes\n",
    "# nodes = []\n",
    "# #loop throug data records\n",
    "# for i in range (0, edgeData.shape[0]):\n",
    "#     #append every node\n",
    "#     nodes.append(edgeData.iloc[i,0])\n",
    "#     nodes.append(edgeData.iloc[i,1])\n",
    "# #creating a set of nodes    \n",
    "# nodes = set(nodes)\n",
    "# #sorting the nodes in increasing order\n",
    "# uniqueNodes = (list(nodes))\n",
    "# uniqueNodes.sort()\n",
    "# #adding the nodes to the graph\n",
    "# G.add_nodes_from(uniqueNodes)\n",
    "\n"
   ]
  },
  {
   "cell_type": "code",
   "execution_count": 8,
   "metadata": {},
   "outputs": [],
   "source": [
    "# # Add edges\n",
    "# #loop from 0 to amount of records\n",
    "# for i in range (0, edgeData.shape[0]):\n",
    "#     #add the edge to the graph\n",
    "#     G.add_edge(edgeData.iloc[i,0], edgeData.iloc[i,1])"
   ]
  },
  {
   "cell_type": "code",
   "execution_count": null,
   "metadata": {},
   "outputs": [],
   "source": []
  },
  {
   "cell_type": "code",
   "execution_count": 2,
   "metadata": {},
   "outputs": [],
   "source": [
    "# Create Graph\n",
    "G = nx.Graph()"
   ]
  },
  {
   "cell_type": "code",
   "execution_count": 3,
   "metadata": {},
   "outputs": [
    {
     "name": "stderr",
     "output_type": "stream",
     "text": [
      "C:\\Users\\Max\\Anaconda3\\lib\\site-packages\\networkx\\drawing\\nx_pylab.py:611: MatplotlibDeprecationWarning: isinstance(..., numbers.Number)\n",
      "  if cb.is_numlike(alpha):\n"
     ]
    },
    {
     "data": {
      "image/png": "[encoded data removed]",
      "text/plain": [
       "<Figure size 432x288 with 1 Axes>"
      ]
     },
     "metadata": {},
     "output_type": "display_data"
    }
   ],
   "source": [
    "#Small example\n",
    "G.add_nodes_from([\"A\",\"B\",\"C\",\"D\",\"E\",\"F\",\"G\"])\n",
    "G.add_edge(\"A\", \"G\")\n",
    "G.add_edge(\"A\", \"B\")\n",
    "G.add_edge(\"A\", \"C\")\n",
    "G.add_edge(\"B\", \"D\")\n",
    "G.add_edge(\"B\", \"E\")\n",
    "G.add_edge(\"B\", \"G\")\n",
    "G.add_edge(\"C\", \"F\")\n",
    "G.add_edge(\"E\", \"F\")\n",
    "\n",
    "\n",
    "# Draw graph\n",
    "nx.draw(G, with_labels = True)\n",
    "plt.show()"
   ]
  },
  {
   "cell_type": "code",
   "execution_count": 31,
   "metadata": {},
   "outputs": [],
   "source": [
    "def bfs(graph, start, budget, e):\n",
    "    vertex_neighbors = [n for n in G.neighbors(start)]\n",
    "    m = math.floor(budget/len(vertex_neighbors)) # 1\n",
    "    allbudgets = {}\n",
    "    ebudgets = {}\n",
    "    for node in graph:\n",
    "        ebudgets[node] = 1\n",
    "    for node in graph:\n",
    "        allbudgets[node] = 0\n",
    "        \n",
    "    allbudgets[start] = m #assign the budget to the start vertix\n",
    "    visited = []\n",
    "    queue = [start]\n",
    "    while queue:\n",
    "        vertex = queue.pop(0)\n",
    "        \n",
    "        if ebudgets[vertex] < e:\n",
    "            break\n",
    "            \n",
    "        visited.append(vertex)\n",
    "        vertex_neighbors = [n for n in G.neighbors(vertex)]\n",
    "        if len(vertex_neighbors) >= allbudgets[vertex]: \n",
    "            newVertexies = np.random.choice(vertex_neighbors, allbudgets[vertex], replace=False)\n",
    "        else:\n",
    "            newVertexies = np.random.choice(vertex_neighbors, allbudgets[vertex], replace=True)    \n",
    "        queue.extend(newVertexies)\n",
    "        allbudgets, ebudgets = updatebudgets(newVertexies, allbudgets, ebudgets)\n",
    "        \n",
    "    return visited"
   ]
  },
  {
   "cell_type": "code",
   "execution_count": 32,
   "metadata": {},
   "outputs": [],
   "source": [
    "def updatebudgets(newVertexies, allbudgets, ebudgets):\n",
    "    for vertex in newVertexies:\n",
    "        allbudgets[vertex] += 1\n",
    "        ebudgets[vertex] = random.uniform(0, 1)\n",
    "        \n",
    "    return allbudgets, ebudgets\n",
    "    "
   ]
  },
  {
   "cell_type": "code",
   "execution_count": 33,
   "metadata": {},
   "outputs": [
    {
     "name": "stdout",
     "output_type": "stream",
     "text": [
      "Running BFS from vertex: A\n",
      "['A', 'G', 'C', 'B', 'F', 'G', 'E', 'A']\n",
      "Running BFS from vertex: B\n",
      "['B', 'A']\n",
      "Running BFS from vertex: C\n",
      "['C']\n",
      "Running BFS from vertex: D\n",
      "['D', 'B', 'B', 'B', 'B', 'B', 'B']\n",
      "Running BFS from vertex: E\n",
      "['E']\n",
      "Running BFS from vertex: F\n",
      "['F']\n",
      "Running BFS from vertex: G\n",
      "['G']\n"
     ]
    }
   ],
   "source": [
    "\n",
    "budget = 6\n",
    "e = 0.2\n",
    "\n",
    "for startvertex in G:\n",
    "    print(\"Running BFS from vertex:\", startvertex)\n",
    "    print(bfs(G, startvertex, budget, e)) "
   ]
  },
  {
   "cell_type": "code",
   "execution_count": null,
   "metadata": {},
   "outputs": [],
   "source": []
  },
  {
   "cell_type": "code",
   "execution_count": null,
   "metadata": {},
   "outputs": [],
   "source": []
  },
  {
   "cell_type": "code",
   "execution_count": null,
   "metadata": {},
   "outputs": [],
   "source": [
    "# def bfs2(graph, start):\n",
    "#     visited = []\n",
    "#     queue = [start]\n",
    "#     while queue:\n",
    "#         vertex = queue.pop(0)\n",
    "#         if vertex not in visited:\n",
    "#             visited.append(vertex)\n",
    "#             vertex_neighbors = [n for n in G.neighbors(vertex)]\n",
    "#             newVertexies = [x for x in vertex_neighbors if x not in visited]\n",
    "#             queue.extend(newVertexies)\n",
    "         \n",
    "#     return visited"
   ]
  },
  {
   "cell_type": "code",
   "execution_count": null,
   "metadata": {},
   "outputs": [],
   "source": []
  },
  {
   "cell_type": "code",
   "execution_count": 15,
   "metadata": {},
   "outputs": [
    {
     "data": {
      "text/plain": [
       "['B', 'C']"
      ]
     },
     "execution_count": 15,
     "metadata": {},
     "output_type": "execute_result"
    }
   ],
   "source": [
    "# vertex_neighbors = [n for n in G.neighbors(\"A\")]\n",
    "# l3 = [x for x in vertex_neighbors if x not in ['G']]\n",
    "# l3"
   ]
  },
  {
   "cell_type": "code",
   "execution_count": 55,
   "metadata": {},
   "outputs": [
    {
     "name": "stdout",
     "output_type": "stream",
     "text": [
      "sampling with choices()  [40 70 60 80]\n"
     ]
    }
   ],
   "source": [
    "# list = [20, 30, 40, 50 ,60, 70, 80]\n",
    "# sampling = np.random.choice(list, 4, replace=False)\n",
    "# print(\"sampling with choices() \", sampling)"
   ]
  },
  {
   "cell_type": "code",
   "execution_count": null,
   "metadata": {},
   "outputs": [],
   "source": []
  },
  {
   "cell_type": "code",
   "execution_count": 10,
   "metadata": {},
   "outputs": [
    {
     "name": "stdout",
     "output_type": "stream",
     "text": [
      "Step: 1\n",
      "Path:  [1, 7495, 2340, 2804, 219, 4026, 955, 8743, 5051, 5636, 4984, 7287, 3479, 750, 9092, 4839, 9098, 2453, 7305, 7394, 4886, 7098, 661, 6860, 8248, 3122, 8387, 7515, 687, 7224, 6568, 2254, 1740, 6392, 588, 8917, 7727, 375, 6346, 4669, 659, 6753, 8911, 3767, 7496, 4839, 4945, 446, 6973, 5681, 2082, 6873, 4501, 3201, 3685, 5537, 1790, 3561, 5881, 6141, 1798, 7852, 7623, 7150, 4984, 4420, 3262, 965, 5790, 8270, 3540, 4491, 5506, 3940, 4903, 6641, 5426, 7076, 9781, 9941, 9198, 9751, 8736, 730, 8157, 2787, 5264, 2558, 4984, 5325, 4407, 3607, 1001, 1774, 7373, 7409, 7989, 7400, 3056, 2438]\n",
      "Most visited nodes:  [4984, 4839, 7495, 2340, 2804, 219, 4026, 955, 8743, 5051]\n",
      "Step: 2\n",
      "Path:  [1, 4836, 5976, 5162, 2019, 8270, 5386, 810, 6141, 6142, 7806, 4576, 2803, 4225, 6243, 6062, 458, 7373, 3503, 5085, 5700, 2033, 477, 2340, 3226, 3222, 17, 6889, 4870, 3713, 4997, 5171, 5298, 5172, 2085, 1378, 6447, 2465, 1383, 161, 2188, 6860, 176, 9341, 8552, 3407, 10271, 9172, 7684, 7121, 102, 8782, 3657, 4176, 43, 4708, 5537, 2973, 1783, 1893, 2551, 2052, 739, 468, 446, 7144, 4374, 5657, 2499, 4997, 14, 2521, 337, 5402, 6813, 3470, 4669, 347, 9058, 7393, 5003, 9216, 7076, 9988, 5544, 6305, 6578, 534, 9844, 5544, 8264, 3992, 6728, 283, 1296, 4374, 965, 2171, 4708, 2049]\n",
      "Most visited nodes:  [4997, 4708, 4374, 5544, 4836, 5976, 5162, 2019, 8270, 5386]\n",
      "Step: 3\n",
      "Path:  [1, 8387, 8526, 1226, 4724, 2928, 2314, 9873, 7198, 10291, 9434, 9412, 4984, 4161, 5259, 7293, 3822, 6535, 7533, 3551, 3568, 3417, 2397, 5747, 373, 6950, 2314, 9188, 7625, 8810, 6479, 7333, 4984, 1394, 8824, 7061, 7144, 5293, 2336, 9905, 5091, 3936, 1621, 4491, 3397, 5457, 370, 1644, 5204, 128, 8224, 9541, 4845, 9520, 9563, 7756, 9420, 4733, 315, 3334, 3661, 9533, 8099, 5886, 9653, 4026, 876, 2778, 4026, 77, 274, 2245, 3494, 8868, 10098, 9188, 8995, 2241, 6466, 239, 7121, 3386, 6578, 7327, 8967, 6605, 7879, 4839, 8018, 9960, 587, 4726, 5927, 5534, 449, 8485, 1831, 5705, 5021, 3122]\n",
      "Most visited nodes:  [2314, 4984, 9188, 4026, 8387, 8526, 1226, 4724, 2928, 9873]\n",
      "Step: 4\n",
      "Path:  [1, 4652, 7496, 7992, 8157, 2107, 3526, 1665, 1376, 1420, 1742, 3834, 3783, 3852, 4047, 5068, 1071, 5068, 8444, 3728, 3498, 5850, 2340, 755, 733, 667, 5827, 176, 9255, 9962, 2345, 1009, 9526, 929, 4997, 344, 4491, 4637, 2453, 7791, 6175, 6332, 3526, 3734, 4849, 102, 6886, 4708, 2638, 4922, 926, 4404, 706, 3354, 2989, 5850, 6060, 5850, 5742, 3830, 5705, 1377, 1300, 645, 1487, 5450, 4792, 5450, 2430, 5738, 8157, 4420, 4187, 2049, 4839, 8978, 3056, 700, 542, 494, 7851, 1009, 588, 8824, 7267, 7010, 2369, 2797, 3198, 2871, 2938, 8939, 4156, 494, 4805, 5152, 639, 2421, 2995, 2421]\n",
      "Most visited nodes:  [5850, 8157, 3526, 5068, 1009, 5450, 494, 2421, 4652, 7496]\n",
      "Step: 5\n",
      "Path:  [1, 7922, 2763, 1621, 5466, 1352, 5747, 4507, 2915, 1352, 4480, 6012, 4839, 6688, 565, 4329, 131, 4374, 7661, 6807, 8524, 667, 1219, 3830, 4085, 2085, 1861, 1599, 263, 1134, 1725, 1420, 1408, 1918, 8525, 2368, 3339, 5750, 4374, 6318, 8775, 7098, 2776, 3858, 1737, 8157, 5479, 8561, 6468, 10110, 9452, 9220, 7633, 10105, 9036, 10105, 9997, 6129, 5329, 9199, 7373, 9012, 4839, 3862, 6917, 4144, 3526, 6749, 8855, 1027, 4374, 6403, 7218, 1190, 2622, 8254, 9728, 8498, 8775, 6171, 6473, 8810, 47, 1847, 1047, 667, 946, 596, 211, 5784, 4054, 3832, 2519, 7393, 2658, 4997, 2938, 2786, 2811, 2928]\n",
      "Most visited nodes:  [4374, 1352, 4839, 667, 8775, 10105, 7922, 2763, 1621, 5466]\n",
      "Step: 6\n",
      "Path:  [1, 1787, 4264, 269, 2869, 229, 3489, 3334, 2967, 556, 996, 1742, 8457, 5177, 9358, 4572, 3262, 5131, 5790, 5705, 5830, 7293, 9526, 9620, 4839, 5105, 219, 2035, 1494, 1327, 834, 2085, 4716, 3561, 4925, 2633, 463, 1876, 1156, 3222, 7149, 8084, 1001, 999, 1273, 2887, 996, 4222, 2003, 3854, 3871, 2521, 1494, 2035, 3830, 5430, 739, 5167, 739, 506, 8248, 2114, 8982, 6832, 1273, 3316, 5705, 3182, 3346, 4997, 3862, 6058, 4805, 2215, 2861, 2010, 2340, 2747, 7533, 8468, 404, 7805, 2521, 104, 6873, 645, 2148, 3608, 666, 1206, 2678, 1105, 6861, 1105, 1567, 1501, 2521, 3558, 176, 1502]\n",
      "Most visited nodes:  [2521, 996, 5705, 2035, 1494, 1273, 739, 1105, 1787, 4264]\n",
      "Step: 7\n",
      "Path:  [1, 3122, 6639, 1597, 4374, 8850, 2143, 5420, 5931, 4374, 7237, 4221, 5241, 4109, 1887, 5068, 6950, 3534, 6134, 8533, 6134, 9321, 7098, 1924, 7893, 455, 3339, 400, 5030, 4590, 7496, 6157, 3407, 6416, 9937, 10303, 2453, 5191, 5927, 3175, 10275, 584, 838, 9777, 8920, 1547, 1443, 1612, 6749, 6976, 8157, 7030, 6704, 3561, 5700, 1413, 2614, 2861, 2241, 7625, 2941, 4524, 7561, 1009, 1292, 1109, 2535, 501, 10225, 7641, 750, 8730, 1047, 7633, 33, 8387, 6950, 6986, 1621, 1895, 2282, 4480, 9526, 5603, 4507, 3657, 210, 739, 9590, 3932, 450, 7526, 6105, 9971, 9997, 9467, 4648, 5078, 7887, 9833]\n",
      "Most visited nodes:  [4374, 6950, 6134, 3122, 6639, 1597, 8850, 2143, 5420, 5931]\n",
      "Step: 8\n",
      "Path:  [1, 5685, 1876, 80, 7895, 760, 1494, 1407, 799, 2228, 3457, 5334, 3198, 5169, 9630, 9653, 10289, 9007, 446, 6791, 6038, 6373, 8819, 5108, 3886, 7648, 7557, 9467, 10068, 7069, 9803, 7076, 9929, 3147, 7966, 3820, 6566, 2775, 3201, 3339, 1716, 2861, 796, 4108, 2521, 6599, 4652, 4371, 4491, 8330, 8525, 6546, 6614, 3114, 9098, 9193, 2633, 463, 8157, 4754, 5068, 3140, 5512, 7423, 5334, 6080, 5151, 4404, 3049, 8157, 5039, 6468, 9525, 3280, 404, 2928, 503, 645, 4235, 1226, 6764, 687, 2111, 964, 4507, 5249, 5326, 2825, 5326, 4232, 5803, 3424, 1887, 1699, 8157, 5858, 2598, 7650, 6959, 1283]\n",
      "Most visited nodes:  [8157, 5334, 5326, 5685, 1876, 80, 7895, 760, 1494, 1407]\n",
      "Step: 9\n",
      "Path:  [1, 3599, 3030, 4997, 2821, 8095, 3650, 3927, 1408, 3197, 3560, 5705, 6252, 2622, 1165, 6599, 1986, 3289, 5450, 2773, 9919, 5924, 8872, 7283, 2241, 5277, 8330, 3830, 8170, 3936, 3470, 3135, 6300, 6568, 7714, 6095, 2915, 4116, 7495, 589, 5259, 2346, 2832, 2064, 233, 4839, 2820, 2327, 2787, 8157, 6955, 8770, 9355, 838, 10038, 9907, 10269, 8228, 7129, 3535, 9358, 5337, 9997, 10016, 1705, 5405, 9917, 3820, 6174, 667, 6826, 6959, 2364, 4599, 3158, 3266, 3561, 6426, 5688, 6199, 8775, 9751, 8504, 7515, 6959, 5824, 4512, 394, 5625, 8600, 661, 867, 1794, 5776, 283, 4194, 176, 8944, 3498, 3197]\n",
      "Most visited nodes:  [3197, 6959, 3599, 3030, 4997, 2821, 8095, 3650, 3927, 1408]\n"
     ]
    }
   ],
   "source": [
    "# # Execute 10 times this command sequence\n",
    "# numOperations = 10\n",
    "# for step in range(1, numOperations):\n",
    "#     # Choose a random start node\n",
    "#     vertexid = 1\n",
    "#     # Dictionary that associate nodes with the amount of times it was visited\n",
    "#     visited_vertices = {}\n",
    "#     # Store and print path\n",
    "#     path = [vertexid]\n",
    "    \n",
    "#     print(\"Step: %d\" % (step))\n",
    "#     # Restart the cycle\n",
    "#     counter = 0\n",
    "#     # Execute the random walk with size 100 (100 steps)\n",
    "#     randomWalkSize = 100\n",
    "#     for counter in range(1, randomWalkSize): \n",
    "#         # Extract vertex neighbours vertex neighborhood\n",
    "#         vertex_neighbors = [n for n in G.neighbors(vertexid)]\n",
    "#         # Set probability of going to a neighbour is uniform\n",
    "#         probability = []\n",
    "#         probability = probability + [1./len(vertex_neighbors)] * len(vertex_neighbors)\n",
    "#         # Choose a vertex from the vertex neighborhood to start the next random walk\n",
    "#         vertexid = np.random.choice(vertex_neighbors, p=probability)\n",
    "#         # Accumulate the amount of times each vertex is visited\n",
    "#         if vertexid in visited_vertices:\n",
    "#             visited_vertices[vertexid] += 1\n",
    "#         else:\n",
    "#             visited_vertices[vertexid] = 1\n",
    "\n",
    "#         # Append to path\n",
    "#         path.append(vertexid)\n",
    "\n",
    "#     # Organize the vertex list in most visited decrescent order\n",
    "#     mostvisited = sorted(visited_vertices, key = visited_vertices.get,reverse = True)\n",
    "#     print(\"Path: \", path)\n",
    "    \n",
    "#     # Separate the top 10 most visited vertex\n",
    "#     print(\"Most visited nodes: \", mostvisited[:10])"
   ]
  },
  {
   "cell_type": "code",
   "execution_count": null,
   "metadata": {},
   "outputs": [],
   "source": []
  }
 ],
 "metadata": {
  "kernelspec": {
   "display_name": "Python 3",
   "language": "python",
   "name": "python3"
  },
  "language_info": {
   "codemirror_mode": {
    "name": "ipython",
    "version": 3
   },
   "file_extension": ".py",
   "mimetype": "text/x-python",
   "name": "python",
   "nbconvert_exporter": "python",
   "pygments_lexer": "ipython3",
   "version": "3.7.3"
  }
 },
 "nbformat": 4,
 "nbformat_minor": 1
}
